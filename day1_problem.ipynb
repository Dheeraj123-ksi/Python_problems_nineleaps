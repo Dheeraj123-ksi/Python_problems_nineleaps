{
 "cells": [
  {
   "cell_type": "code",
   "execution_count": 3,
   "id": "e44b5594-5500-43df-b298-4e2253397850",
   "metadata": {},
   "outputs": [],
   "source": [
    "import csv\n",
    "import math\n",
    "\n",
    "\n",
    "# Open the input and output CSV files\n",
    "with open('sales_24.csv', mode='r', newline='', encoding='utf-8') as infile, \\\n",
    "     open('sales_updated.csv', mode='w', newline='', encoding='utf-8') as outfile:\n",
    "\n",
    "    reader = csv.DictReader(infile)\n",
    "    fieldnames = reader.fieldnames\n",
    "    writer = csv.DictWriter(outfile, fieldnames=fieldnames)\n",
    "    \n",
    "    writer.writeheader()\n",
    "\n",
    "    for row in reader:\n",
    "        amount = row['Amount']\n",
    "        # Check for non-empty and valid amount\n",
    "        if amount.strip():\n",
    "            try:\n",
    "                row['Amount'] = str(math.floor(float(amount)))\n",
    "            except ValueError:\n",
    "                # If value is invalid (e.g., not a number), keep it as is\n",
    "                pass\n",
    "        writer.writerow(row)\n"
   ]
  },
  {
   "cell_type": "code",
   "execution_count": null,
   "id": "e6cf9fef-501c-479f-8eb9-78e11f8b5589",
   "metadata": {},
   "outputs": [],
   "source": []
  }
 ],
 "metadata": {
  "kernelspec": {
   "display_name": "Python 3 (ipykernel)",
   "language": "python",
   "name": "python3"
  },
  "language_info": {
   "codemirror_mode": {
    "name": "ipython",
    "version": 3
   },
   "file_extension": ".py",
   "mimetype": "text/x-python",
   "name": "python",
   "nbconvert_exporter": "python",
   "pygments_lexer": "ipython3",
   "version": "3.10.12"
  }
 },
 "nbformat": 4,
 "nbformat_minor": 5
}
